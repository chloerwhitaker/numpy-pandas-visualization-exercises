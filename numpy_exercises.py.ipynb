{
 "cells": [
  {
   "cell_type": "markdown",
   "id": "c23f7732",
   "metadata": {},
   "source": [
    "Use the following code for the questions below:\n",
    "\n",
    "a = np.array([4, 10, 12, 23, -2, -1, 0, 0, 0, -6, 3, -7])"
   ]
  },
  {
   "cell_type": "markdown",
   "id": "4585eaa1",
   "metadata": {},
   "source": [
    "1. How many negative numbers are there?"
   ]
  },
  {
   "cell_type": "code",
   "execution_count": 2,
   "id": "ada59948",
   "metadata": {},
   "outputs": [],
   "source": [
    "import numpy as np"
   ]
  },
  {
   "cell_type": "code",
   "execution_count": 3,
   "id": "84bb9153",
   "metadata": {},
   "outputs": [],
   "source": [
    "a = np.array([4, 10, 12, 23, -2, -1, 0, 0, 0, -6, 3, -7])"
   ]
  },
  {
   "cell_type": "code",
   "execution_count": 61,
   "id": "37743452",
   "metadata": {},
   "outputs": [],
   "source": [
    "neg_num = a[a < 0]"
   ]
  },
  {
   "cell_type": "code",
   "execution_count": 62,
   "id": "1230ea36",
   "metadata": {},
   "outputs": [
    {
     "data": {
      "text/plain": [
       "4"
      ]
     },
     "execution_count": 62,
     "metadata": {},
     "output_type": "execute_result"
    }
   ],
   "source": [
    "len(neg_num)"
   ]
  },
  {
   "cell_type": "code",
   "execution_count": 72,
   "id": "0fef9447",
   "metadata": {},
   "outputs": [],
   "source": [
    "# neg_num.size # another way to solve"
   ]
  },
  {
   "cell_type": "markdown",
   "id": "d29cb089",
   "metadata": {},
   "source": [
    "2. How many positive numbers are there?"
   ]
  },
  {
   "cell_type": "code",
   "execution_count": 5,
   "id": "1b7d83f2",
   "metadata": {},
   "outputs": [],
   "source": [
    "pos_num = a[a > 0]"
   ]
  },
  {
   "cell_type": "code",
   "execution_count": 6,
   "id": "448edce0",
   "metadata": {},
   "outputs": [
    {
     "data": {
      "text/plain": [
       "5"
      ]
     },
     "execution_count": 6,
     "metadata": {},
     "output_type": "execute_result"
    }
   ],
   "source": [
    "len(pos_num)"
   ]
  },
  {
   "cell_type": "markdown",
   "id": "abccc5e5",
   "metadata": {},
   "source": [
    "3. How many even positive numbers are there?"
   ]
  },
  {
   "cell_type": "code",
   "execution_count": 9,
   "id": "1d0b06f3",
   "metadata": {},
   "outputs": [],
   "source": [
    "even_pos_num = pos_num[pos_num % 2 == 0]"
   ]
  },
  {
   "cell_type": "code",
   "execution_count": 10,
   "id": "a3d7b891",
   "metadata": {},
   "outputs": [
    {
     "data": {
      "text/plain": [
       "3"
      ]
     },
     "execution_count": 10,
     "metadata": {},
     "output_type": "execute_result"
    }
   ],
   "source": [
    "len(even_pos_num)"
   ]
  },
  {
   "cell_type": "markdown",
   "id": "6f1ca8aa",
   "metadata": {},
   "source": [
    "4. If you were to add 3 to each data point, how many positive numbers would there be?"
   ]
  },
  {
   "cell_type": "code",
   "execution_count": 67,
   "id": "e61a5a79",
   "metadata": {},
   "outputs": [],
   "source": [
    "add_three = a + 3"
   ]
  },
  {
   "cell_type": "code",
   "execution_count": 68,
   "id": "70bcce11",
   "metadata": {},
   "outputs": [],
   "source": [
    "new_pos_num = add_three[add_three > 0]"
   ]
  },
  {
   "cell_type": "code",
   "execution_count": 69,
   "id": "c7b25a83",
   "metadata": {},
   "outputs": [
    {
     "data": {
      "text/plain": [
       "10"
      ]
     },
     "execution_count": 69,
     "metadata": {},
     "output_type": "execute_result"
    }
   ],
   "source": [
    "len(new_pos_num)"
   ]
  },
  {
   "cell_type": "code",
   "execution_count": 71,
   "id": "77112ba8",
   "metadata": {},
   "outputs": [],
   "source": [
    "# new_pos_num.size"
   ]
  },
  {
   "cell_type": "markdown",
   "id": "9ac6e352",
   "metadata": {},
   "source": [
    "5. If you squared each number, what would the new mean and standard deviation be?"
   ]
  },
  {
   "cell_type": "code",
   "execution_count": 14,
   "id": "bb2f2c0d",
   "metadata": {},
   "outputs": [],
   "source": [
    "a_squared = a ** 2"
   ]
  },
  {
   "cell_type": "code",
   "execution_count": 15,
   "id": "2fcef7c8",
   "metadata": {},
   "outputs": [
    {
     "data": {
      "text/plain": [
       "74.0"
      ]
     },
     "execution_count": 15,
     "metadata": {},
     "output_type": "execute_result"
    }
   ],
   "source": [
    "a_squared.mean()"
   ]
  },
  {
   "cell_type": "code",
   "execution_count": 17,
   "id": "eb152417",
   "metadata": {},
   "outputs": [
    {
     "data": {
      "text/plain": [
       "144.0243035046516"
      ]
     },
     "execution_count": 17,
     "metadata": {},
     "output_type": "execute_result"
    }
   ],
   "source": [
    "a_squared.std()"
   ]
  },
  {
   "cell_type": "markdown",
   "id": "c05d53c1",
   "metadata": {},
   "source": [
    "6. A common statistical operation on a dataset is centering. This means to adjust the data such that the mean of the data is 0. This is done by subtracting the mean from each data point. Center the data set. See this link for more on centering: https://www.theanalysisfactor.com/centering-and-standardizing-predictors/"
   ]
  },
  {
   "cell_type": "code",
   "execution_count": 74,
   "id": "0b02864e",
   "metadata": {},
   "outputs": [],
   "source": [
    "centered_a = a - a.mean()"
   ]
  },
  {
   "cell_type": "code",
   "execution_count": 75,
   "id": "f6e0aaf7",
   "metadata": {},
   "outputs": [
    {
     "data": {
      "text/plain": [
       "array([  1.,   7.,   9.,  20.,  -5.,  -4.,  -3.,  -3.,  -3.,  -9.,   0.,\n",
       "       -10.])"
      ]
     },
     "execution_count": 75,
     "metadata": {},
     "output_type": "execute_result"
    }
   ],
   "source": [
    "centered_a"
   ]
  },
  {
   "cell_type": "code",
   "execution_count": 76,
   "id": "f26e2d41",
   "metadata": {},
   "outputs": [
    {
     "data": {
      "text/plain": [
       "0.0"
      ]
     },
     "execution_count": 76,
     "metadata": {},
     "output_type": "execute_result"
    }
   ],
   "source": [
    "centered_a.mean()"
   ]
  },
  {
   "cell_type": "markdown",
   "id": "bd0a7458",
   "metadata": {},
   "source": [
    "7. Calculate the z-score for each data point. Recall that the z-score is given by:\n",
    "\n",
    "            Z=(x−μ)/σ\n"
   ]
  },
  {
   "cell_type": "code",
   "execution_count": 21,
   "id": "dcce19bb",
   "metadata": {},
   "outputs": [],
   "source": [
    "z_score = (a - a.mean()) / a.std() "
   ]
  },
  {
   "cell_type": "code",
   "execution_count": 24,
   "id": "7c57ba4c",
   "metadata": {},
   "outputs": [
    {
     "data": {
      "text/plain": [
       "array([ 0.12403473,  0.86824314,  1.11631261,  2.48069469, -0.62017367,\n",
       "       -0.49613894, -0.3721042 , -0.3721042 , -0.3721042 , -1.11631261,\n",
       "        0.        , -1.24034735])"
      ]
     },
     "execution_count": 24,
     "metadata": {},
     "output_type": "execute_result"
    }
   ],
   "source": [
    "z_score"
   ]
  },
  {
   "cell_type": "markdown",
   "id": "caf9099d",
   "metadata": {},
   "source": [
    "8. Copy the setup and exercise directions from More Numpy Practice into your numpy_exercises.py and add your solutions.\n",
    "- Use python's built in functionality/operators to determine the following:    "
   ]
  },
  {
   "cell_type": "markdown",
   "id": "07b7d455",
   "metadata": {},
   "source": [
    "## a"
   ]
  },
  {
   "cell_type": "code",
   "execution_count": 81,
   "id": "b5870631",
   "metadata": {},
   "outputs": [],
   "source": [
    "a = [1, 2, 3, 4, 5, 6, 7, 8, 9, 10]"
   ]
  },
  {
   "cell_type": "markdown",
   "id": "6719205b",
   "metadata": {},
   "source": [
    "- Exercise 1 - Make a variable called sum_of_a to hold the sum of all the numbers in above list"
   ]
  },
  {
   "cell_type": "code",
   "execution_count": 5,
   "id": "ea2bcc94",
   "metadata": {},
   "outputs": [],
   "source": [
    "sum_of_a = sum(a)"
   ]
  },
  {
   "cell_type": "markdown",
   "id": "9e003ce3",
   "metadata": {},
   "source": [
    "sum_of_a"
   ]
  },
  {
   "cell_type": "markdown",
   "id": "29075cc1",
   "metadata": {},
   "source": [
    "- Exercise 2 - Make a variable named min_of_a to hold the minimum of all the numbers in the above list"
   ]
  },
  {
   "cell_type": "code",
   "execution_count": 3,
   "id": "6de1cdc5",
   "metadata": {},
   "outputs": [],
   "source": [
    "min_of_a = min(a)"
   ]
  },
  {
   "cell_type": "code",
   "execution_count": 4,
   "id": "aad6c2d9",
   "metadata": {},
   "outputs": [
    {
     "data": {
      "text/plain": [
       "1"
      ]
     },
     "execution_count": 4,
     "metadata": {},
     "output_type": "execute_result"
    }
   ],
   "source": [
    "min_of_a"
   ]
  },
  {
   "cell_type": "markdown",
   "id": "da27e031",
   "metadata": {},
   "source": [
    "- Exercise 3 - Make a variable named max_of_a to hold the max number of all the numbers in the above list\n"
   ]
  },
  {
   "cell_type": "code",
   "execution_count": 7,
   "id": "d0e76e72",
   "metadata": {},
   "outputs": [],
   "source": [
    "max_of_a = max(a)"
   ]
  },
  {
   "cell_type": "code",
   "execution_count": 8,
   "id": "01a2ade1",
   "metadata": {},
   "outputs": [
    {
     "data": {
      "text/plain": [
       "10"
      ]
     },
     "execution_count": 8,
     "metadata": {},
     "output_type": "execute_result"
    }
   ],
   "source": [
    "max_of_a"
   ]
  },
  {
   "cell_type": "markdown",
   "id": "85a592b4",
   "metadata": {},
   "source": [
    "- Exercise 4 - Make a variable named mean_of_a to hold the average of all the numbers in the above list\n"
   ]
  },
  {
   "cell_type": "code",
   "execution_count": 9,
   "id": "9d609eff",
   "metadata": {},
   "outputs": [],
   "source": [
    "mean_of_a = sum(a) / len(a)"
   ]
  },
  {
   "cell_type": "code",
   "execution_count": 10,
   "id": "f241d150",
   "metadata": {},
   "outputs": [
    {
     "data": {
      "text/plain": [
       "5.5"
      ]
     },
     "execution_count": 10,
     "metadata": {},
     "output_type": "execute_result"
    }
   ],
   "source": [
    "mean_of_a"
   ]
  },
  {
   "cell_type": "markdown",
   "id": "29bb4df2",
   "metadata": {},
   "source": [
    "- Exercise 5 - Make a variable named product_of_a to hold the product of multiplying all the numbers in the above list together"
   ]
  },
  {
   "cell_type": "code",
   "execution_count": 83,
   "id": "d2d7ccc5",
   "metadata": {},
   "outputs": [
    {
     "data": {
      "text/plain": [
       "3628800"
      ]
     },
     "execution_count": 83,
     "metadata": {},
     "output_type": "execute_result"
    }
   ],
   "source": [
    "product_of_a = 1\n",
    "for i in a:\n",
    "    product_of_a *= i\n",
    "\n",
    "product_of_a"
   ]
  },
  {
   "cell_type": "markdown",
   "id": "a04a21c2",
   "metadata": {},
   "source": [
    "- Exercise 6 - Make a variable named squares_of_a. It should hold each number in a squared like [1, 4, 9, 16, 25...]\n"
   ]
  },
  {
   "cell_type": "code",
   "execution_count": 14,
   "id": "0d2212dc",
   "metadata": {},
   "outputs": [],
   "source": [
    "squares_of_a = [i ** 2 for i in a]"
   ]
  },
  {
   "cell_type": "code",
   "execution_count": 15,
   "id": "a6c9b467",
   "metadata": {},
   "outputs": [
    {
     "data": {
      "text/plain": [
       "[1, 4, 9, 16, 25, 36, 49, 64, 81, 100]"
      ]
     },
     "execution_count": 15,
     "metadata": {},
     "output_type": "execute_result"
    }
   ],
   "source": [
    "squares_of_a"
   ]
  },
  {
   "cell_type": "markdown",
   "id": "8021db07",
   "metadata": {},
   "source": [
    "- Exercise 7 - Make a variable named odds_in_a. It should hold only the odd numbers"
   ]
  },
  {
   "cell_type": "code",
   "execution_count": 18,
   "id": "4f841c1f",
   "metadata": {},
   "outputs": [],
   "source": [
    "odds_in_a = [i for i in a if i % 2 == 1]"
   ]
  },
  {
   "cell_type": "code",
   "execution_count": 19,
   "id": "66232691",
   "metadata": {},
   "outputs": [
    {
     "data": {
      "text/plain": [
       "[1, 3, 5, 7, 9]"
      ]
     },
     "execution_count": 19,
     "metadata": {},
     "output_type": "execute_result"
    }
   ],
   "source": [
    "odds_in_a"
   ]
  },
  {
   "cell_type": "markdown",
   "id": "30740bfb",
   "metadata": {},
   "source": [
    "- Exercise 8 - Make a variable named evens_in_a. It should hold only the evens."
   ]
  },
  {
   "cell_type": "code",
   "execution_count": 20,
   "id": "1ba4d47e",
   "metadata": {},
   "outputs": [],
   "source": [
    "evens_in_a = [i for i in a if i % 2 == 0]"
   ]
  },
  {
   "cell_type": "code",
   "execution_count": 21,
   "id": "edaa4b01",
   "metadata": {},
   "outputs": [
    {
     "data": {
      "text/plain": [
       "[2, 4, 6, 8, 10]"
      ]
     },
     "execution_count": 21,
     "metadata": {},
     "output_type": "execute_result"
    }
   ],
   "source": [
    "evens_in_a"
   ]
  },
  {
   "cell_type": "markdown",
   "id": "ab52d6dd",
   "metadata": {},
   "source": [
    "## b"
   ]
  },
  {
   "cell_type": "markdown",
   "id": "65a99d27",
   "metadata": {},
   "source": [
    "What about life in two dimensions? A list of lists is matrix, a table, a spreadsheet, a chessboard...\n",
    "\n",
    "\n",
    "- Setup 2: Consider what it would take to find the sum, min, max, average, sum, product, and list of squares for this list of two lists.\n",
    "            b = [\n",
    "                [3, 4, 5],\n",
    "                [6, 7, 8]\n",
    "            ]"
   ]
  },
  {
   "cell_type": "code",
   "execution_count": 5,
   "id": "d19304a0",
   "metadata": {},
   "outputs": [],
   "source": [
    "b = [\n",
    "          [3, 4, 5],\n",
    "          [6, 7, 8]\n",
    "      ]"
   ]
  },
  {
   "cell_type": "markdown",
   "id": "9e9aa179",
   "metadata": {},
   "source": [
    "- Exercise 1 - refactor the following to use numpy. Use sum_of_b as the variable. **Hint, you'll first need to make sure that the \"b\" variable is a numpy array**\n",
    "            sum_of_b = 0\n",
    "            for row in b:\n",
    "                sum_of_b += sum(row)"
   ]
  },
  {
   "cell_type": "code",
   "execution_count": 6,
   "id": "a986cc77",
   "metadata": {},
   "outputs": [],
   "source": [
    "sum_of_b = 0\n",
    "for row in b:\n",
    "    sum_of_b += sum(row)"
   ]
  },
  {
   "cell_type": "code",
   "execution_count": 7,
   "id": "3005821b",
   "metadata": {},
   "outputs": [],
   "source": [
    "b = np.array(b)"
   ]
  },
  {
   "cell_type": "code",
   "execution_count": 8,
   "id": "d410ab6c",
   "metadata": {},
   "outputs": [
    {
     "data": {
      "text/plain": [
       "array([[3, 4, 5],\n",
       "       [6, 7, 8]])"
      ]
     },
     "execution_count": 8,
     "metadata": {},
     "output_type": "execute_result"
    }
   ],
   "source": [
    "b"
   ]
  },
  {
   "cell_type": "code",
   "execution_count": 9,
   "id": "20bae4fc",
   "metadata": {},
   "outputs": [],
   "source": [
    "sum_of_b = b.sum()"
   ]
  },
  {
   "cell_type": "code",
   "execution_count": 10,
   "id": "55aea5d3",
   "metadata": {},
   "outputs": [
    {
     "data": {
      "text/plain": [
       "33"
      ]
     },
     "execution_count": 10,
     "metadata": {},
     "output_type": "execute_result"
    }
   ],
   "source": [
    "sum_of_b"
   ]
  },
  {
   "cell_type": "markdown",
   "id": "8f955d58",
   "metadata": {},
   "source": [
    "- Exercise 2 - refactor the following to use numpy. \n",
    "        min_of_b = min(b[0]) if min(b[0]) <= min(b[1]) else min(b[1])  "
   ]
  },
  {
   "cell_type": "code",
   "execution_count": 11,
   "id": "23926732",
   "metadata": {},
   "outputs": [],
   "source": [
    "min_of_b = b.min()"
   ]
  },
  {
   "cell_type": "code",
   "execution_count": 12,
   "id": "f5deeb1b",
   "metadata": {},
   "outputs": [
    {
     "data": {
      "text/plain": [
       "3"
      ]
     },
     "execution_count": 12,
     "metadata": {},
     "output_type": "execute_result"
    }
   ],
   "source": [
    "min_of_b"
   ]
  },
  {
   "cell_type": "markdown",
   "id": "4ebdc4b4",
   "metadata": {},
   "source": [
    "- Exercise 3 - refactor the following maximum calculation to find the answer with numpy. \n",
    "        \n",
    "        max_of_b = max(b[0]) if max(b[0]) >= max(b[1]) else max(b[1])"
   ]
  },
  {
   "cell_type": "code",
   "execution_count": 13,
   "id": "c9485121",
   "metadata": {},
   "outputs": [],
   "source": [
    "max_of_b = b.max()"
   ]
  },
  {
   "cell_type": "markdown",
   "id": "c6c57219",
   "metadata": {},
   "source": [
    "max_of_b"
   ]
  },
  {
   "cell_type": "markdown",
   "id": "e098512c",
   "metadata": {},
   "source": [
    "- Exercise 4 - refactor the following using numpy to find the mean of b\n",
    "\n",
    "        mean_of_b = (sum(b[0]) + sum(b[1])) / (len(b[0]) + len(b[1]))"
   ]
  },
  {
   "cell_type": "code",
   "execution_count": 14,
   "id": "a02ab030",
   "metadata": {},
   "outputs": [],
   "source": [
    "mean_of_b = b.mean()"
   ]
  },
  {
   "cell_type": "code",
   "execution_count": 15,
   "id": "ea038726",
   "metadata": {},
   "outputs": [
    {
     "data": {
      "text/plain": [
       "5.5"
      ]
     },
     "execution_count": 15,
     "metadata": {},
     "output_type": "execute_result"
    }
   ],
   "source": [
    "mean_of_b"
   ]
  },
  {
   "cell_type": "markdown",
   "id": "db9e7e01",
   "metadata": {},
   "source": [
    "- Exercise 5 - refactor the following to use numpy for calculating the product of all numbers multiplied together.\n",
    "\n",
    "        product_of_b = 1\n",
    "        for row in b:\n",
    "            for number in row:\n",
    "                product_of_b *= number"
   ]
  },
  {
   "cell_type": "code",
   "execution_count": 16,
   "id": "432b6a04",
   "metadata": {},
   "outputs": [],
   "source": [
    "product_of_b = b.prod()"
   ]
  },
  {
   "cell_type": "code",
   "execution_count": 17,
   "id": "407ee00e",
   "metadata": {},
   "outputs": [
    {
     "data": {
      "text/plain": [
       "20160"
      ]
     },
     "execution_count": 17,
     "metadata": {},
     "output_type": "execute_result"
    }
   ],
   "source": [
    "product_of_b"
   ]
  },
  {
   "cell_type": "markdown",
   "id": "82b31e21",
   "metadata": {},
   "source": [
    "- Exercise 6 - refactor the following to use numpy to find the list of squares \n",
    "\n",
    "        squares_of_b = []\n",
    "        for row in b:\n",
    "            for number in row:\n",
    "                squares_of_b.append(number**2)"
   ]
  },
  {
   "cell_type": "code",
   "execution_count": 18,
   "id": "7655c0c0",
   "metadata": {},
   "outputs": [],
   "source": [
    "squares_of_b = np.power(b,2)"
   ]
  },
  {
   "cell_type": "code",
   "execution_count": 19,
   "id": "97e55f21",
   "metadata": {},
   "outputs": [
    {
     "data": {
      "text/plain": [
       "array([[ 9, 16, 25],\n",
       "       [36, 49, 64]])"
      ]
     },
     "execution_count": 19,
     "metadata": {},
     "output_type": "execute_result"
    }
   ],
   "source": [
    "squares_of_b"
   ]
  },
  {
   "cell_type": "markdown",
   "id": "51ce0fb2",
   "metadata": {},
   "source": [
    "- Exercise 7 - refactor using numpy to determine the odds_in_b\n",
    "\n",
    "        odds_in_b = []\n",
    "        for row in b:\n",
    "            for number in row:\n",
    "                if(number % 2 != 0):\n",
    "                    odds_in_b.append(number)\n"
   ]
  },
  {
   "cell_type": "code",
   "execution_count": 20,
   "id": "ca6cd135",
   "metadata": {},
   "outputs": [],
   "source": [
    "odds_in_b = b[b % 2 != 0]"
   ]
  },
  {
   "cell_type": "code",
   "execution_count": 21,
   "id": "8fb65f9e",
   "metadata": {},
   "outputs": [
    {
     "data": {
      "text/plain": [
       "array([3, 5, 7])"
      ]
     },
     "execution_count": 21,
     "metadata": {},
     "output_type": "execute_result"
    }
   ],
   "source": [
    "odds_in_b"
   ]
  },
  {
   "cell_type": "markdown",
   "id": "11bf6a23",
   "metadata": {},
   "source": [
    "- Exercise 8 - refactor the following to use numpy to filter only the even numbers\n",
    "\n",
    "        evens_in_b = []\n",
    "        for row in b:\n",
    "            for number in row:\n",
    "                if(number % 2 == 0):\n",
    "                    evens_in_b.append(number)"
   ]
  },
  {
   "cell_type": "code",
   "execution_count": 22,
   "id": "0b2b8624",
   "metadata": {},
   "outputs": [],
   "source": [
    "evens_in_b = b[b % 2 == 0]"
   ]
  },
  {
   "cell_type": "code",
   "execution_count": 23,
   "id": "f2717ad4",
   "metadata": {},
   "outputs": [
    {
     "data": {
      "text/plain": [
       "array([4, 6, 8])"
      ]
     },
     "execution_count": 23,
     "metadata": {},
     "output_type": "execute_result"
    }
   ],
   "source": [
    "evens_in_b"
   ]
  },
  {
   "cell_type": "markdown",
   "id": "8d113c30",
   "metadata": {},
   "source": [
    "- Exercise 9 - print out the shape of the array b."
   ]
  },
  {
   "cell_type": "code",
   "execution_count": 24,
   "id": "790a9ba5",
   "metadata": {},
   "outputs": [
    {
     "data": {
      "text/plain": [
       "(2, 3)"
      ]
     },
     "execution_count": 24,
     "metadata": {},
     "output_type": "execute_result"
    }
   ],
   "source": [
    "b.shape"
   ]
  },
  {
   "cell_type": "markdown",
   "id": "8b8f5693",
   "metadata": {},
   "source": [
    "- Exercise 10 - transpose the array b."
   ]
  },
  {
   "cell_type": "code",
   "execution_count": 25,
   "id": "9994d9cb",
   "metadata": {},
   "outputs": [
    {
     "data": {
      "text/plain": [
       "array([[3, 6],\n",
       "       [4, 7],\n",
       "       [5, 8]])"
      ]
     },
     "execution_count": 25,
     "metadata": {},
     "output_type": "execute_result"
    }
   ],
   "source": [
    "b.T"
   ]
  },
  {
   "cell_type": "markdown",
   "id": "600528a2",
   "metadata": {},
   "source": [
    "- Exercise 11 - reshape the array b to be a single list of 6 numbers. (1 x 6)\n"
   ]
  },
  {
   "cell_type": "code",
   "execution_count": 26,
   "id": "ff9d8032",
   "metadata": {},
   "outputs": [
    {
     "data": {
      "text/plain": [
       "array([3, 4, 5, 6, 7, 8])"
      ]
     },
     "execution_count": 26,
     "metadata": {},
     "output_type": "execute_result"
    }
   ],
   "source": [
    "b.reshape(6)"
   ]
  },
  {
   "cell_type": "markdown",
   "id": "0935955f",
   "metadata": {},
   "source": [
    "- Exercise 12 - reshape the array b to be a list of 6 lists, each containing only 1 number (6 x 1)"
   ]
  },
  {
   "cell_type": "code",
   "execution_count": 27,
   "id": "94b7f207",
   "metadata": {},
   "outputs": [
    {
     "data": {
      "text/plain": [
       "array([[3],\n",
       "       [4],\n",
       "       [5],\n",
       "       [6],\n",
       "       [7],\n",
       "       [8]])"
      ]
     },
     "execution_count": 27,
     "metadata": {},
     "output_type": "execute_result"
    }
   ],
   "source": [
    "b.reshape(6,1)"
   ]
  },
  {
   "cell_type": "markdown",
   "id": "1a949158",
   "metadata": {},
   "source": [
    "## c"
   ]
  },
  {
   "cell_type": "markdown",
   "id": "e48ef84e",
   "metadata": {},
   "source": [
    "- Setup 3\n",
    "\n",
    "        c = [\n",
    "            [1, 2, 3],\n",
    "            [4, 5, 6],\n",
    "            [7, 8, 9]\n",
    "        ]\n",
    "\n",
    "* HINT, you'll first need to make sure that the \"c\" variable is a numpy array prior to using numpy array methods."
   ]
  },
  {
   "cell_type": "code",
   "execution_count": 28,
   "id": "b7a2b01e",
   "metadata": {},
   "outputs": [],
   "source": [
    "c = [\n",
    "      [1, 2, 3],\n",
    "      [4, 5, 6],\n",
    "      [7, 8, 9]\n",
    "  ]"
   ]
  },
  {
   "cell_type": "code",
   "execution_count": 29,
   "id": "c81f796b",
   "metadata": {},
   "outputs": [],
   "source": [
    "c = np.array(c)"
   ]
  },
  {
   "cell_type": "code",
   "execution_count": 30,
   "id": "182a726d",
   "metadata": {},
   "outputs": [
    {
     "data": {
      "text/plain": [
       "array([[1, 2, 3],\n",
       "       [4, 5, 6],\n",
       "       [7, 8, 9]])"
      ]
     },
     "execution_count": 30,
     "metadata": {},
     "output_type": "execute_result"
    }
   ],
   "source": [
    "c"
   ]
  },
  {
   "cell_type": "markdown",
   "id": "87b6a32d",
   "metadata": {},
   "source": [
    "- Exercise 1 - Find the min, max, sum, and product of c."
   ]
  },
  {
   "cell_type": "code",
   "execution_count": 31,
   "id": "44b4e199",
   "metadata": {},
   "outputs": [
    {
     "data": {
      "text/plain": [
       "(1, 9, 45, 362880)"
      ]
     },
     "execution_count": 31,
     "metadata": {},
     "output_type": "execute_result"
    }
   ],
   "source": [
    "c.min(), c.max(), c.sum(), c.prod()"
   ]
  },
  {
   "cell_type": "markdown",
   "id": "1f3bca33",
   "metadata": {},
   "source": [
    "- Exercise 2 - Determine the standard deviation of c."
   ]
  },
  {
   "cell_type": "code",
   "execution_count": 33,
   "id": "9f070fa5",
   "metadata": {},
   "outputs": [
    {
     "data": {
      "text/plain": [
       "2.581988897471611"
      ]
     },
     "execution_count": 33,
     "metadata": {},
     "output_type": "execute_result"
    }
   ],
   "source": [
    "c.std()"
   ]
  },
  {
   "cell_type": "markdown",
   "id": "1885a47a",
   "metadata": {},
   "source": [
    "- Exercise 3 - Determine the variance of c."
   ]
  },
  {
   "cell_type": "code",
   "execution_count": 34,
   "id": "fad7f6e4",
   "metadata": {},
   "outputs": [
    {
     "data": {
      "text/plain": [
       "6.666666666666667"
      ]
     },
     "execution_count": 34,
     "metadata": {},
     "output_type": "execute_result"
    }
   ],
   "source": [
    "c.var()"
   ]
  },
  {
   "cell_type": "markdown",
   "id": "a359334b",
   "metadata": {},
   "source": [
    "- Exercise 4 - Print out the shape of the array c"
   ]
  },
  {
   "cell_type": "code",
   "execution_count": 36,
   "id": "4d9c4a5a",
   "metadata": {},
   "outputs": [
    {
     "data": {
      "text/plain": [
       "(3, 3)"
      ]
     },
     "execution_count": 36,
     "metadata": {},
     "output_type": "execute_result"
    }
   ],
   "source": [
    "c.shape"
   ]
  },
  {
   "cell_type": "markdown",
   "id": "a601d507",
   "metadata": {},
   "source": [
    "- Exercise 5 - Transpose c and print out transposed result."
   ]
  },
  {
   "cell_type": "code",
   "execution_count": 37,
   "id": "7ba93dea",
   "metadata": {},
   "outputs": [
    {
     "data": {
      "text/plain": [
       "array([[1, 4, 7],\n",
       "       [2, 5, 8],\n",
       "       [3, 6, 9]])"
      ]
     },
     "execution_count": 37,
     "metadata": {},
     "output_type": "execute_result"
    }
   ],
   "source": [
    "c.T"
   ]
  },
  {
   "cell_type": "code",
   "execution_count": 84,
   "id": "152be979",
   "metadata": {},
   "outputs": [],
   "source": [
    "#np.transpose(c)"
   ]
  },
  {
   "cell_type": "markdown",
   "id": "49d5c0e4",
   "metadata": {},
   "source": [
    "- Exercise 6 - Get the dot product of the array c with c. "
   ]
  },
  {
   "cell_type": "code",
   "execution_count": 85,
   "id": "4e1a3e3c",
   "metadata": {},
   "outputs": [
    {
     "data": {
      "text/plain": [
       "array([[ 30,  36,  42],\n",
       "       [ 66,  81,  96],\n",
       "       [102, 126, 150]])"
      ]
     },
     "execution_count": 85,
     "metadata": {},
     "output_type": "execute_result"
    }
   ],
   "source": [
    "np.dot(c, c) #multiplying array * array"
   ]
  },
  {
   "cell_type": "markdown",
   "id": "db1ab016",
   "metadata": {},
   "source": [
    "- Exercise 7 - Write the code necessary to sum up the result of c times c transposed. Answer should be 261"
   ]
  },
  {
   "cell_type": "code",
   "execution_count": 43,
   "id": "9333e2ac",
   "metadata": {},
   "outputs": [
    {
     "data": {
      "text/plain": [
       "261"
      ]
     },
     "execution_count": 43,
     "metadata": {},
     "output_type": "execute_result"
    }
   ],
   "source": [
    "(c * c.T).sum()"
   ]
  },
  {
   "cell_type": "markdown",
   "id": "ea60ae3c",
   "metadata": {},
   "source": [
    "- Exercise 8 - Write the code necessary to determine the product of c times c transposed. Answer should be 131681894400."
   ]
  },
  {
   "cell_type": "code",
   "execution_count": 46,
   "id": "1441fb64",
   "metadata": {},
   "outputs": [
    {
     "data": {
      "text/plain": [
       "131681894400"
      ]
     },
     "execution_count": 46,
     "metadata": {},
     "output_type": "execute_result"
    }
   ],
   "source": [
    "(c * c.T).prod()"
   ]
  },
  {
   "cell_type": "markdown",
   "id": "97b574cf",
   "metadata": {},
   "source": [
    "## d"
   ]
  },
  {
   "cell_type": "markdown",
   "id": "49996300",
   "metadata": {},
   "source": [
    "- Setup 4\n",
    "\n",
    "        d = [\n",
    "            [90, 30, 45, 0, 120, 180],\n",
    "            [45, -90, -30, 270, 90, 0],\n",
    "            [60, 45, -45, 90, -45, 180]\n",
    "        ]"
   ]
  },
  {
   "cell_type": "code",
   "execution_count": 47,
   "id": "571844b3",
   "metadata": {},
   "outputs": [],
   "source": [
    " d = [\n",
    "      [90, 30, 45, 0, 120, 180],\n",
    "      [45, -90, -30, 270, 90, 0],\n",
    "      [60, 45, -45, 90, -45, 180]\n",
    "  ]"
   ]
  },
  {
   "cell_type": "code",
   "execution_count": 48,
   "id": "4b109277",
   "metadata": {},
   "outputs": [],
   "source": [
    "d = np.array(d)"
   ]
  },
  {
   "cell_type": "code",
   "execution_count": 49,
   "id": "a8955ce3",
   "metadata": {},
   "outputs": [
    {
     "data": {
      "text/plain": [
       "array([[ 90,  30,  45,   0, 120, 180],\n",
       "       [ 45, -90, -30, 270,  90,   0],\n",
       "       [ 60,  45, -45,  90, -45, 180]])"
      ]
     },
     "execution_count": 49,
     "metadata": {},
     "output_type": "execute_result"
    }
   ],
   "source": [
    "d"
   ]
  },
  {
   "cell_type": "markdown",
   "id": "c6d969f2",
   "metadata": {},
   "source": [
    "- Exercise 1 - Find the sine of all the numbers in d"
   ]
  },
  {
   "cell_type": "code",
   "execution_count": 50,
   "id": "cafda1b9",
   "metadata": {},
   "outputs": [
    {
     "data": {
      "text/plain": [
       "array([[ 0.89399666, -0.98803162,  0.85090352,  0.        ,  0.58061118,\n",
       "        -0.80115264],\n",
       "       [ 0.85090352, -0.89399666,  0.98803162, -0.17604595,  0.89399666,\n",
       "         0.        ],\n",
       "       [-0.30481062,  0.85090352, -0.85090352,  0.89399666, -0.85090352,\n",
       "        -0.80115264]])"
      ]
     },
     "execution_count": 50,
     "metadata": {},
     "output_type": "execute_result"
    }
   ],
   "source": [
    "np.sin(d)"
   ]
  },
  {
   "cell_type": "markdown",
   "id": "0a30ac9a",
   "metadata": {},
   "source": [
    "- Exercise 2 - Find the cosine of all the numbers in d"
   ]
  },
  {
   "cell_type": "code",
   "execution_count": 51,
   "id": "bf2731dd",
   "metadata": {},
   "outputs": [
    {
     "data": {
      "text/plain": [
       "array([[-0.44807362,  0.15425145,  0.52532199,  1.        ,  0.81418097,\n",
       "        -0.59846007],\n",
       "       [ 0.52532199, -0.44807362,  0.15425145,  0.98438195, -0.44807362,\n",
       "         1.        ],\n",
       "       [-0.95241298,  0.52532199,  0.52532199, -0.44807362,  0.52532199,\n",
       "        -0.59846007]])"
      ]
     },
     "execution_count": 51,
     "metadata": {},
     "output_type": "execute_result"
    }
   ],
   "source": [
    "np.cos(d)"
   ]
  },
  {
   "cell_type": "markdown",
   "id": "6550df26",
   "metadata": {},
   "source": [
    "- Exercise 3 - Find the tangent of all the numbers in d"
   ]
  },
  {
   "cell_type": "code",
   "execution_count": 52,
   "id": "9bcf0f88",
   "metadata": {},
   "outputs": [
    {
     "data": {
      "text/plain": [
       "array([[-1.99520041, -6.4053312 ,  1.61977519,  0.        ,  0.71312301,\n",
       "         1.33869021],\n",
       "       [ 1.61977519,  1.99520041,  6.4053312 , -0.17883906, -1.99520041,\n",
       "         0.        ],\n",
       "       [ 0.32004039,  1.61977519, -1.61977519, -1.99520041, -1.61977519,\n",
       "         1.33869021]])"
      ]
     },
     "execution_count": 52,
     "metadata": {},
     "output_type": "execute_result"
    }
   ],
   "source": [
    "np.tan(d)"
   ]
  },
  {
   "cell_type": "markdown",
   "id": "ee67bc09",
   "metadata": {},
   "source": [
    "- Exercise 4 - Find all the negative numbers in d"
   ]
  },
  {
   "cell_type": "code",
   "execution_count": 53,
   "id": "3b10a745",
   "metadata": {},
   "outputs": [
    {
     "data": {
      "text/plain": [
       "array([-90, -30, -45, -45])"
      ]
     },
     "execution_count": 53,
     "metadata": {},
     "output_type": "execute_result"
    }
   ],
   "source": [
    "d[d < 0]"
   ]
  },
  {
   "cell_type": "markdown",
   "id": "7eb4b8db",
   "metadata": {},
   "source": [
    "- Exercise 5 - Find all the positive numbers in d"
   ]
  },
  {
   "cell_type": "code",
   "execution_count": 54,
   "id": "3220184e",
   "metadata": {},
   "outputs": [
    {
     "data": {
      "text/plain": [
       "array([ 90,  30,  45, 120, 180,  45, 270,  90,  60,  45,  90, 180])"
      ]
     },
     "execution_count": 54,
     "metadata": {},
     "output_type": "execute_result"
    }
   ],
   "source": [
    "d[d > 0]"
   ]
  },
  {
   "cell_type": "markdown",
   "id": "7aa15630",
   "metadata": {},
   "source": [
    "- Exercise 6 - Return an array of only the unique numbers in d.\n"
   ]
  },
  {
   "cell_type": "code",
   "execution_count": 55,
   "id": "366b26ea",
   "metadata": {},
   "outputs": [
    {
     "data": {
      "text/plain": [
       "array([-90, -45, -30,   0,  30,  45,  60,  90, 120, 180, 270])"
      ]
     },
     "execution_count": 55,
     "metadata": {},
     "output_type": "execute_result"
    }
   ],
   "source": [
    "np.unique(d)"
   ]
  },
  {
   "cell_type": "markdown",
   "id": "c0a4779d",
   "metadata": {},
   "source": [
    "- Exercise 7 - Determine how many unique numbers there are in d."
   ]
  },
  {
   "cell_type": "code",
   "execution_count": 87,
   "id": "6426ca05",
   "metadata": {},
   "outputs": [
    {
     "data": {
      "text/plain": [
       "11"
      ]
     },
     "execution_count": 87,
     "metadata": {},
     "output_type": "execute_result"
    }
   ],
   "source": [
    "np.unique(d).size #to be more numpy use .size"
   ]
  },
  {
   "cell_type": "markdown",
   "id": "6326ae73",
   "metadata": {},
   "source": [
    "- Exercise 8 - Print out the shape of d."
   ]
  },
  {
   "cell_type": "code",
   "execution_count": 57,
   "id": "6c7d84a6",
   "metadata": {},
   "outputs": [
    {
     "data": {
      "text/plain": [
       "(3, 6)"
      ]
     },
     "execution_count": 57,
     "metadata": {},
     "output_type": "execute_result"
    }
   ],
   "source": [
    "d.shape"
   ]
  },
  {
   "cell_type": "markdown",
   "id": "f0b889b9",
   "metadata": {},
   "source": [
    "- Exercise 9 - Transpose and then print out the shape of d.\n"
   ]
  },
  {
   "cell_type": "code",
   "execution_count": 58,
   "id": "18056779",
   "metadata": {},
   "outputs": [
    {
     "data": {
      "text/plain": [
       "(6, 3)"
      ]
     },
     "execution_count": 58,
     "metadata": {},
     "output_type": "execute_result"
    }
   ],
   "source": [
    "d.T.shape"
   ]
  },
  {
   "cell_type": "markdown",
   "id": "97bbaa8a",
   "metadata": {},
   "source": [
    "- Exercise 10 - Reshape d into an array of 9 x 2"
   ]
  },
  {
   "cell_type": "code",
   "execution_count": 59,
   "id": "16def495",
   "metadata": {},
   "outputs": [
    {
     "data": {
      "text/plain": [
       "array([[ 90,  30],\n",
       "       [ 45,   0],\n",
       "       [120, 180],\n",
       "       [ 45, -90],\n",
       "       [-30, 270],\n",
       "       [ 90,   0],\n",
       "       [ 60,  45],\n",
       "       [-45,  90],\n",
       "       [-45, 180]])"
      ]
     },
     "execution_count": 59,
     "metadata": {},
     "output_type": "execute_result"
    }
   ],
   "source": [
    "d.reshape(9,2)"
   ]
  },
  {
   "cell_type": "markdown",
   "id": "934a831c",
   "metadata": {},
   "source": [
    "Awesome Bonus For much more practice with numpy, Go to https://github.com/rougier/numpy-100 and clone the repo down to your laptop. Next, go to https://github.com/new to make a new repo. Name it numpy-100, and follow the directions to \"push an existing repository from the command line\" so that you can push up your changes to your own account."
   ]
  }
 ],
 "metadata": {
  "kernelspec": {
   "display_name": "Python 3",
   "language": "python",
   "name": "python3"
  },
  "language_info": {
   "codemirror_mode": {
    "name": "ipython",
    "version": 3
   },
   "file_extension": ".py",
   "mimetype": "text/x-python",
   "name": "python",
   "nbconvert_exporter": "python",
   "pygments_lexer": "ipython3",
   "version": "3.8.8"
  }
 },
 "nbformat": 4,
 "nbformat_minor": 5
}
