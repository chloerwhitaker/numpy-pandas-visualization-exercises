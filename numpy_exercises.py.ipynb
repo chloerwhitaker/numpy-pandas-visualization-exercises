{
 "cells": [
  {
   "cell_type": "markdown",
   "id": "13b9bfd8",
   "metadata": {},
   "source": [
    "Use the following code for the questions below:\n",
    "\n",
    "a = np.array([4, 10, 12, 23, -2, -1, 0, 0, 0, -6, 3, -7])"
   ]
  },
  {
   "cell_type": "markdown",
   "id": "43d959fc",
   "metadata": {},
   "source": [
    "1. How many negative numbers are there?"
   ]
  },
  {
   "cell_type": "code",
   "execution_count": 2,
   "id": "6a0ca846",
   "metadata": {},
   "outputs": [],
   "source": [
    "import numpy as np"
   ]
  },
  {
   "cell_type": "code",
   "execution_count": 3,
   "id": "feeea8ae",
   "metadata": {},
   "outputs": [],
   "source": [
    "a = np.array([4, 10, 12, 23, -2, -1, 0, 0, 0, -6, 3, -7])"
   ]
  },
  {
   "cell_type": "code",
   "execution_count": 7,
   "id": "23a7f746",
   "metadata": {},
   "outputs": [],
   "source": [
    "neg_num = a[a < 0]"
   ]
  },
  {
   "cell_type": "code",
   "execution_count": 8,
   "id": "6885aab1",
   "metadata": {},
   "outputs": [
    {
     "data": {
      "text/plain": [
       "4"
      ]
     },
     "execution_count": 8,
     "metadata": {},
     "output_type": "execute_result"
    }
   ],
   "source": [
    "len(neg_num)"
   ]
  },
  {
   "cell_type": "markdown",
   "id": "aa2c379d",
   "metadata": {},
   "source": [
    "2. How many positive numbers are there?"
   ]
  },
  {
   "cell_type": "code",
   "execution_count": 5,
   "id": "0b236937",
   "metadata": {},
   "outputs": [],
   "source": [
    "pos_num = a[a > 0]"
   ]
  },
  {
   "cell_type": "code",
   "execution_count": 6,
   "id": "d2491547",
   "metadata": {},
   "outputs": [
    {
     "data": {
      "text/plain": [
       "5"
      ]
     },
     "execution_count": 6,
     "metadata": {},
     "output_type": "execute_result"
    }
   ],
   "source": [
    "len(pos_num)"
   ]
  },
  {
   "cell_type": "markdown",
   "id": "b5c90f97",
   "metadata": {},
   "source": [
    "3. How many even positive numbers are there?"
   ]
  },
  {
   "cell_type": "code",
   "execution_count": 9,
   "id": "c2eaca92",
   "metadata": {},
   "outputs": [],
   "source": [
    "even_pos_num = pos_num[pos_num % 2 == 0]"
   ]
  },
  {
   "cell_type": "code",
   "execution_count": 10,
   "id": "dfa73af2",
   "metadata": {},
   "outputs": [
    {
     "data": {
      "text/plain": [
       "3"
      ]
     },
     "execution_count": 10,
     "metadata": {},
     "output_type": "execute_result"
    }
   ],
   "source": [
    "len(even_pos_num)"
   ]
  },
  {
   "cell_type": "markdown",
   "id": "cd64a429",
   "metadata": {},
   "source": [
    "4. If you were to add 3 to each data point, how many positive numbers would there be?"
   ]
  },
  {
   "cell_type": "code",
   "execution_count": 11,
   "id": "e48f049f",
   "metadata": {},
   "outputs": [],
   "source": [
    "add_three = a + 3"
   ]
  },
  {
   "cell_type": "code",
   "execution_count": 12,
   "id": "97d14050",
   "metadata": {},
   "outputs": [],
   "source": [
    "new_pos_num = add_three[add_three > 0]"
   ]
  },
  {
   "cell_type": "code",
   "execution_count": 13,
   "id": "9987b96d",
   "metadata": {},
   "outputs": [
    {
     "data": {
      "text/plain": [
       "10"
      ]
     },
     "execution_count": 13,
     "metadata": {},
     "output_type": "execute_result"
    }
   ],
   "source": [
    "len(new_pos_num)"
   ]
  },
  {
   "cell_type": "markdown",
   "id": "0692395f",
   "metadata": {},
   "source": [
    "5. If you squared each number, what would the new mean and standard deviation be?"
   ]
  },
  {
   "cell_type": "code",
   "execution_count": 14,
   "id": "ddd12e62",
   "metadata": {},
   "outputs": [],
   "source": [
    "a_squared = a ** 2"
   ]
  },
  {
   "cell_type": "code",
   "execution_count": 15,
   "id": "deaad629",
   "metadata": {},
   "outputs": [
    {
     "data": {
      "text/plain": [
       "74.0"
      ]
     },
     "execution_count": 15,
     "metadata": {},
     "output_type": "execute_result"
    }
   ],
   "source": [
    "a_squared.mean()"
   ]
  },
  {
   "cell_type": "code",
   "execution_count": 17,
   "id": "4b58a719",
   "metadata": {},
   "outputs": [
    {
     "data": {
      "text/plain": [
       "144.0243035046516"
      ]
     },
     "execution_count": 17,
     "metadata": {},
     "output_type": "execute_result"
    }
   ],
   "source": [
    "a_squared.std()"
   ]
  },
  {
   "cell_type": "markdown",
   "id": "47a3462c",
   "metadata": {},
   "source": [
    "6. A common statistical operation on a dataset is centering. This means to adjust the data such that the mean of the data is 0. This is done by subtracting the mean from each data point. Center the data set. See this link for more on centering: https://www.theanalysisfactor.com/centering-and-standardizing-predictors/"
   ]
  },
  {
   "cell_type": "code",
   "execution_count": 19,
   "id": "f6d7b7be",
   "metadata": {},
   "outputs": [],
   "source": [
    "centered_a = a - a.mean()"
   ]
  },
  {
   "cell_type": "code",
   "execution_count": 20,
   "id": "092c8736",
   "metadata": {},
   "outputs": [
    {
     "data": {
      "text/plain": [
       "0.0"
      ]
     },
     "execution_count": 20,
     "metadata": {},
     "output_type": "execute_result"
    }
   ],
   "source": [
    "centered_a.mean()"
   ]
  },
  {
   "cell_type": "markdown",
   "id": "d151f7a6",
   "metadata": {},
   "source": [
    "7. Calculate the z-score for each data point. Recall that the z-score is given by:\n",
    "\n",
    "            Z=(x−μ)/σ\n"
   ]
  },
  {
   "cell_type": "code",
   "execution_count": 21,
   "id": "fb6a1455",
   "metadata": {},
   "outputs": [],
   "source": [
    "z_score = (a - a.mean()) / a.std() "
   ]
  },
  {
   "cell_type": "code",
   "execution_count": 24,
   "id": "902298e8",
   "metadata": {},
   "outputs": [
    {
     "data": {
      "text/plain": [
       "array([ 0.12403473,  0.86824314,  1.11631261,  2.48069469, -0.62017367,\n",
       "       -0.49613894, -0.3721042 , -0.3721042 , -0.3721042 , -1.11631261,\n",
       "        0.        , -1.24034735])"
      ]
     },
     "execution_count": 24,
     "metadata": {},
     "output_type": "execute_result"
    }
   ],
   "source": [
    "z_score"
   ]
  },
  {
   "cell_type": "markdown",
   "id": "7d306cf6",
   "metadata": {},
   "source": [
    "8. Copy the setup and exercise directions from More Numpy Practice into your numpy_exercises.py and add your solutions.\n",
    "- Use python's built in functionality/operators to determine the following:    "
   ]
  },
  {
   "cell_type": "markdown",
   "id": "3341785c",
   "metadata": {},
   "source": [
    "## a"
   ]
  },
  {
   "cell_type": "code",
   "execution_count": 1,
   "id": "4fcb8290",
   "metadata": {},
   "outputs": [],
   "source": [
    "a = [1, 2, 3, 4, 5, 6, 7, 8, 9, 10]"
   ]
  },
  {
   "cell_type": "markdown",
   "id": "07954724",
   "metadata": {},
   "source": [
    "- Exercise 1 - Make a variable called sum_of_a to hold the sum of all the numbers in above list"
   ]
  },
  {
   "cell_type": "code",
   "execution_count": 5,
   "id": "7147fbae",
   "metadata": {},
   "outputs": [],
   "source": [
    "sum_of_a = sum(a)"
   ]
  },
  {
   "cell_type": "markdown",
   "id": "65ebb3e2",
   "metadata": {},
   "source": [
    "sum_of_a"
   ]
  },
  {
   "cell_type": "markdown",
   "id": "c157546f",
   "metadata": {},
   "source": [
    "- Exercise 2 - Make a variable named min_of_a to hold the minimum of all the numbers in the above list"
   ]
  },
  {
   "cell_type": "code",
   "execution_count": 3,
   "id": "0532bf85",
   "metadata": {},
   "outputs": [],
   "source": [
    "min_of_a = min(a)"
   ]
  },
  {
   "cell_type": "code",
   "execution_count": 4,
   "id": "7bef1f2f",
   "metadata": {},
   "outputs": [
    {
     "data": {
      "text/plain": [
       "1"
      ]
     },
     "execution_count": 4,
     "metadata": {},
     "output_type": "execute_result"
    }
   ],
   "source": [
    "min_of_a"
   ]
  },
  {
   "cell_type": "markdown",
   "id": "e63fd343",
   "metadata": {},
   "source": [
    "- Exercise 3 - Make a variable named max_of_a to hold the max number of all the numbers in the above list\n"
   ]
  },
  {
   "cell_type": "code",
   "execution_count": 7,
   "id": "179bf30e",
   "metadata": {},
   "outputs": [],
   "source": [
    "max_of_a = max(a)"
   ]
  },
  {
   "cell_type": "code",
   "execution_count": 8,
   "id": "e21bff38",
   "metadata": {},
   "outputs": [
    {
     "data": {
      "text/plain": [
       "10"
      ]
     },
     "execution_count": 8,
     "metadata": {},
     "output_type": "execute_result"
    }
   ],
   "source": [
    "max_of_a"
   ]
  },
  {
   "cell_type": "markdown",
   "id": "168979f4",
   "metadata": {},
   "source": [
    "- Exercise 4 - Make a variable named mean_of_a to hold the average of all the numbers in the above list\n"
   ]
  },
  {
   "cell_type": "code",
   "execution_count": 9,
   "id": "3e5f1523",
   "metadata": {},
   "outputs": [],
   "source": [
    "mean_of_a = sum(a) / len(a)"
   ]
  },
  {
   "cell_type": "code",
   "execution_count": 10,
   "id": "a4b2eee9",
   "metadata": {},
   "outputs": [
    {
     "data": {
      "text/plain": [
       "5.5"
      ]
     },
     "execution_count": 10,
     "metadata": {},
     "output_type": "execute_result"
    }
   ],
   "source": [
    "mean_of_a"
   ]
  },
  {
   "cell_type": "markdown",
   "id": "ae209aa9",
   "metadata": {},
   "source": [
    "- Exercise 5 - Make a variable named product_of_a to hold the product of multiplying all the numbers in the above list together"
   ]
  },
  {
   "cell_type": "code",
   "execution_count": 11,
   "id": "a14a7873",
   "metadata": {},
   "outputs": [],
   "source": [
    "product_of_a = [i ** 2 for i in a]"
   ]
  },
  {
   "cell_type": "code",
   "execution_count": 12,
   "id": "4dcadb03",
   "metadata": {},
   "outputs": [
    {
     "data": {
      "text/plain": [
       "[1, 4, 9, 16, 25, 36, 49, 64, 81, 100]"
      ]
     },
     "execution_count": 12,
     "metadata": {},
     "output_type": "execute_result"
    }
   ],
   "source": [
    "product_of_a"
   ]
  },
  {
   "cell_type": "markdown",
   "id": "6901969f",
   "metadata": {},
   "source": [
    "- Exercise 6 - Make a variable named squares_of_a. It should hold each number in a squared like [1, 4, 9, 16, 25...]\n"
   ]
  },
  {
   "cell_type": "code",
   "execution_count": 14,
   "id": "85d1a333",
   "metadata": {},
   "outputs": [],
   "source": [
    "squares_of_a = [i ** 2 for i in a]"
   ]
  },
  {
   "cell_type": "code",
   "execution_count": 15,
   "id": "21c74476",
   "metadata": {},
   "outputs": [
    {
     "data": {
      "text/plain": [
       "[1, 4, 9, 16, 25, 36, 49, 64, 81, 100]"
      ]
     },
     "execution_count": 15,
     "metadata": {},
     "output_type": "execute_result"
    }
   ],
   "source": [
    "squares_of_a"
   ]
  },
  {
   "cell_type": "markdown",
   "id": "4773aa56",
   "metadata": {},
   "source": [
    "- Exercise 7 - Make a variable named odds_in_a. It should hold only the odd numbers"
   ]
  },
  {
   "cell_type": "code",
   "execution_count": 18,
   "id": "cb371fc0",
   "metadata": {},
   "outputs": [],
   "source": [
    "odds_in_a = [i for i in a if i % 2 == 1]"
   ]
  },
  {
   "cell_type": "code",
   "execution_count": 19,
   "id": "a74f1488",
   "metadata": {},
   "outputs": [
    {
     "data": {
      "text/plain": [
       "[1, 3, 5, 7, 9]"
      ]
     },
     "execution_count": 19,
     "metadata": {},
     "output_type": "execute_result"
    }
   ],
   "source": [
    "odds_in_a"
   ]
  },
  {
   "cell_type": "markdown",
   "id": "2a2c7057",
   "metadata": {},
   "source": [
    "- Exercise 8 - Make a variable named evens_in_a. It should hold only the evens."
   ]
  },
  {
   "cell_type": "code",
   "execution_count": 20,
   "id": "d2c33669",
   "metadata": {},
   "outputs": [],
   "source": [
    "evens_in_a = [i for i in a if i % 2 == 0]"
   ]
  },
  {
   "cell_type": "code",
   "execution_count": 21,
   "id": "16743765",
   "metadata": {},
   "outputs": [
    {
     "data": {
      "text/plain": [
       "[2, 4, 6, 8, 10]"
      ]
     },
     "execution_count": 21,
     "metadata": {},
     "output_type": "execute_result"
    }
   ],
   "source": [
    "evens_in_a"
   ]
  },
  {
   "cell_type": "markdown",
   "id": "4a7b5d7f",
   "metadata": {},
   "source": [
    "## b"
   ]
  },
  {
   "cell_type": "markdown",
   "id": "06270457",
   "metadata": {},
   "source": [
    "What about life in two dimensions? A list of lists is matrix, a table, a spreadsheet, a chessboard...\n",
    "\n",
    "\n",
    "- Setup 2: Consider what it would take to find the sum, min, max, average, sum, product, and list of squares for this list of two lists.\n",
    "            b = [\n",
    "                [3, 4, 5],\n",
    "                [6, 7, 8]\n",
    "            ]"
   ]
  },
  {
   "cell_type": "code",
   "execution_count": 5,
   "id": "74d71a39",
   "metadata": {},
   "outputs": [],
   "source": [
    "b = [\n",
    "          [3, 4, 5],\n",
    "          [6, 7, 8]\n",
    "      ]"
   ]
  },
  {
   "cell_type": "markdown",
   "id": "16933fe1",
   "metadata": {},
   "source": [
    "- Exercise 1 - refactor the following to use numpy. Use sum_of_b as the variable. **Hint, you'll first need to make sure that the \"b\" variable is a numpy array**\n",
    "            sum_of_b = 0\n",
    "            for row in b:\n",
    "                sum_of_b += sum(row)"
   ]
  },
  {
   "cell_type": "code",
   "execution_count": 6,
   "id": "ddb05cf3",
   "metadata": {},
   "outputs": [],
   "source": [
    "sum_of_b = 0\n",
    "for row in b:\n",
    "    sum_of_b += sum(row)"
   ]
  },
  {
   "cell_type": "code",
   "execution_count": 7,
   "id": "8d33a74a",
   "metadata": {},
   "outputs": [],
   "source": [
    "b = np.array(b)"
   ]
  },
  {
   "cell_type": "code",
   "execution_count": 8,
   "id": "967654e1",
   "metadata": {},
   "outputs": [
    {
     "data": {
      "text/plain": [
       "array([[3, 4, 5],\n",
       "       [6, 7, 8]])"
      ]
     },
     "execution_count": 8,
     "metadata": {},
     "output_type": "execute_result"
    }
   ],
   "source": [
    "b"
   ]
  },
  {
   "cell_type": "code",
   "execution_count": 9,
   "id": "de4065de",
   "metadata": {},
   "outputs": [],
   "source": [
    "sum_of_b = b.sum()"
   ]
  },
  {
   "cell_type": "code",
   "execution_count": 10,
   "id": "c9a3b38b",
   "metadata": {},
   "outputs": [
    {
     "data": {
      "text/plain": [
       "33"
      ]
     },
     "execution_count": 10,
     "metadata": {},
     "output_type": "execute_result"
    }
   ],
   "source": [
    "sum_of_b"
   ]
  },
  {
   "cell_type": "markdown",
   "id": "e59a3509",
   "metadata": {},
   "source": [
    "- Exercise 2 - refactor the following to use numpy. \n",
    "        min_of_b = min(b[0]) if min(b[0]) <= min(b[1]) else min(b[1])  "
   ]
  },
  {
   "cell_type": "code",
   "execution_count": 11,
   "id": "ef188f6a",
   "metadata": {},
   "outputs": [],
   "source": [
    "min_of_b = b.min()"
   ]
  },
  {
   "cell_type": "code",
   "execution_count": 12,
   "id": "1a25057b",
   "metadata": {},
   "outputs": [
    {
     "data": {
      "text/plain": [
       "3"
      ]
     },
     "execution_count": 12,
     "metadata": {},
     "output_type": "execute_result"
    }
   ],
   "source": [
    "min_of_b"
   ]
  },
  {
   "cell_type": "markdown",
   "id": "2b668768",
   "metadata": {},
   "source": [
    "- Exercise 3 - refactor the following maximum calculation to find the answer with numpy. \n",
    "        \n",
    "        max_of_b = max(b[0]) if max(b[0]) >= max(b[1]) else max(b[1])"
   ]
  },
  {
   "cell_type": "code",
   "execution_count": 13,
   "id": "9434b595",
   "metadata": {},
   "outputs": [],
   "source": [
    "max_of_b = b.max()"
   ]
  },
  {
   "cell_type": "markdown",
   "id": "df592f4d",
   "metadata": {},
   "source": [
    "max_of_b"
   ]
  },
  {
   "cell_type": "markdown",
   "id": "bd1c9d60",
   "metadata": {},
   "source": [
    "- Exercise 4 - refactor the following using numpy to find the mean of b\n",
    "\n",
    "        mean_of_b = (sum(b[0]) + sum(b[1])) / (len(b[0]) + len(b[1]))"
   ]
  },
  {
   "cell_type": "code",
   "execution_count": 14,
   "id": "f427774c",
   "metadata": {},
   "outputs": [],
   "source": [
    "mean_of_b = b.mean()"
   ]
  },
  {
   "cell_type": "code",
   "execution_count": 15,
   "id": "49659afc",
   "metadata": {},
   "outputs": [
    {
     "data": {
      "text/plain": [
       "5.5"
      ]
     },
     "execution_count": 15,
     "metadata": {},
     "output_type": "execute_result"
    }
   ],
   "source": [
    "mean_of_b"
   ]
  },
  {
   "cell_type": "markdown",
   "id": "6b20b6c7",
   "metadata": {},
   "source": [
    "- Exercise 5 - refactor the following to use numpy for calculating the product of all numbers multiplied together.\n",
    "\n",
    "        product_of_b = 1\n",
    "        for row in b:\n",
    "            for number in row:\n",
    "                product_of_b *= number"
   ]
  },
  {
   "cell_type": "code",
   "execution_count": 16,
   "id": "9dccc455",
   "metadata": {},
   "outputs": [],
   "source": [
    "product_of_b = b.prod()"
   ]
  },
  {
   "cell_type": "code",
   "execution_count": 17,
   "id": "b1904fe4",
   "metadata": {},
   "outputs": [
    {
     "data": {
      "text/plain": [
       "20160"
      ]
     },
     "execution_count": 17,
     "metadata": {},
     "output_type": "execute_result"
    }
   ],
   "source": [
    "product_of_b"
   ]
  },
  {
   "cell_type": "markdown",
   "id": "af0fd472",
   "metadata": {},
   "source": [
    "- Exercise 6 - refactor the following to use numpy to find the list of squares \n",
    "\n",
    "        squares_of_b = []\n",
    "        for row in b:\n",
    "            for number in row:\n",
    "                squares_of_b.append(number**2)"
   ]
  },
  {
   "cell_type": "code",
   "execution_count": 18,
   "id": "992620ee",
   "metadata": {},
   "outputs": [],
   "source": [
    "squares_of_b = np.power(b,2)"
   ]
  },
  {
   "cell_type": "code",
   "execution_count": 19,
   "id": "ff3e0065",
   "metadata": {},
   "outputs": [
    {
     "data": {
      "text/plain": [
       "array([[ 9, 16, 25],\n",
       "       [36, 49, 64]])"
      ]
     },
     "execution_count": 19,
     "metadata": {},
     "output_type": "execute_result"
    }
   ],
   "source": [
    "squares_of_b"
   ]
  },
  {
   "cell_type": "markdown",
   "id": "cce83f3d",
   "metadata": {},
   "source": [
    "- Exercise 7 - refactor using numpy to determine the odds_in_b\n",
    "\n",
    "        odds_in_b = []\n",
    "        for row in b:\n",
    "            for number in row:\n",
    "                if(number % 2 != 0):\n",
    "                    odds_in_b.append(number)\n"
   ]
  },
  {
   "cell_type": "code",
   "execution_count": 20,
   "id": "0d60e831",
   "metadata": {},
   "outputs": [],
   "source": [
    "odds_in_b = b[b % 2 != 0]"
   ]
  },
  {
   "cell_type": "code",
   "execution_count": 21,
   "id": "acb606fd",
   "metadata": {},
   "outputs": [
    {
     "data": {
      "text/plain": [
       "array([3, 5, 7])"
      ]
     },
     "execution_count": 21,
     "metadata": {},
     "output_type": "execute_result"
    }
   ],
   "source": [
    "odds_in_b"
   ]
  },
  {
   "cell_type": "markdown",
   "id": "425e5f64",
   "metadata": {},
   "source": [
    "- Exercise 8 - refactor the following to use numpy to filter only the even numbers\n",
    "\n",
    "        evens_in_b = []\n",
    "        for row in b:\n",
    "            for number in row:\n",
    "                if(number % 2 == 0):\n",
    "                    evens_in_b.append(number)"
   ]
  },
  {
   "cell_type": "code",
   "execution_count": 22,
   "id": "fd429276",
   "metadata": {},
   "outputs": [],
   "source": [
    "evens_in_b = b[b % 2 == 0]"
   ]
  },
  {
   "cell_type": "code",
   "execution_count": 23,
   "id": "665c624b",
   "metadata": {},
   "outputs": [
    {
     "data": {
      "text/plain": [
       "array([4, 6, 8])"
      ]
     },
     "execution_count": 23,
     "metadata": {},
     "output_type": "execute_result"
    }
   ],
   "source": [
    "evens_in_b"
   ]
  },
  {
   "cell_type": "markdown",
   "id": "10c8debc",
   "metadata": {},
   "source": [
    "- Exercise 9 - print out the shape of the array b."
   ]
  },
  {
   "cell_type": "code",
   "execution_count": 24,
   "id": "a92f9f9f",
   "metadata": {},
   "outputs": [
    {
     "data": {
      "text/plain": [
       "(2, 3)"
      ]
     },
     "execution_count": 24,
     "metadata": {},
     "output_type": "execute_result"
    }
   ],
   "source": [
    "b.shape"
   ]
  },
  {
   "cell_type": "markdown",
   "id": "a342eec5",
   "metadata": {},
   "source": [
    "- Exercise 10 - transpose the array b."
   ]
  },
  {
   "cell_type": "code",
   "execution_count": 25,
   "id": "f2faf93f",
   "metadata": {},
   "outputs": [
    {
     "data": {
      "text/plain": [
       "array([[3, 6],\n",
       "       [4, 7],\n",
       "       [5, 8]])"
      ]
     },
     "execution_count": 25,
     "metadata": {},
     "output_type": "execute_result"
    }
   ],
   "source": [
    "b.T"
   ]
  },
  {
   "cell_type": "markdown",
   "id": "a58862ac",
   "metadata": {},
   "source": [
    "- Exercise 11 - reshape the array b to be a single list of 6 numbers. (1 x 6)\n"
   ]
  },
  {
   "cell_type": "code",
   "execution_count": 26,
   "id": "65e098ee",
   "metadata": {},
   "outputs": [
    {
     "data": {
      "text/plain": [
       "array([3, 4, 5, 6, 7, 8])"
      ]
     },
     "execution_count": 26,
     "metadata": {},
     "output_type": "execute_result"
    }
   ],
   "source": [
    "b.reshape(6)"
   ]
  },
  {
   "cell_type": "markdown",
   "id": "6bc66216",
   "metadata": {},
   "source": [
    "- Exercise 12 - reshape the array b to be a list of 6 lists, each containing only 1 number (6 x 1)"
   ]
  },
  {
   "cell_type": "code",
   "execution_count": 27,
   "id": "cc3193c1",
   "metadata": {},
   "outputs": [
    {
     "data": {
      "text/plain": [
       "array([[3],\n",
       "       [4],\n",
       "       [5],\n",
       "       [6],\n",
       "       [7],\n",
       "       [8]])"
      ]
     },
     "execution_count": 27,
     "metadata": {},
     "output_type": "execute_result"
    }
   ],
   "source": [
    "b.reshape(6,1)"
   ]
  },
  {
   "cell_type": "markdown",
   "id": "1e9d2727",
   "metadata": {},
   "source": [
    "## c"
   ]
  },
  {
   "cell_type": "markdown",
   "id": "a03fcc94",
   "metadata": {},
   "source": [
    "- Setup 3\n",
    "\n",
    "        c = [\n",
    "            [1, 2, 3],\n",
    "            [4, 5, 6],\n",
    "            [7, 8, 9]\n",
    "        ]\n",
    "\n",
    "* HINT, you'll first need to make sure that the \"c\" variable is a numpy array prior to using numpy array methods."
   ]
  },
  {
   "cell_type": "code",
   "execution_count": 28,
   "id": "f7cf601e",
   "metadata": {},
   "outputs": [],
   "source": [
    "c = [\n",
    "      [1, 2, 3],\n",
    "      [4, 5, 6],\n",
    "      [7, 8, 9]\n",
    "  ]"
   ]
  },
  {
   "cell_type": "code",
   "execution_count": 29,
   "id": "bdbfd255",
   "metadata": {},
   "outputs": [],
   "source": [
    "c = np.array(c)"
   ]
  },
  {
   "cell_type": "code",
   "execution_count": 30,
   "id": "5af1d754",
   "metadata": {},
   "outputs": [
    {
     "data": {
      "text/plain": [
       "array([[1, 2, 3],\n",
       "       [4, 5, 6],\n",
       "       [7, 8, 9]])"
      ]
     },
     "execution_count": 30,
     "metadata": {},
     "output_type": "execute_result"
    }
   ],
   "source": [
    "c"
   ]
  },
  {
   "cell_type": "markdown",
   "id": "e41d5020",
   "metadata": {},
   "source": [
    "- Exercise 1 - Find the min, max, sum, and product of c."
   ]
  },
  {
   "cell_type": "code",
   "execution_count": 31,
   "id": "b3b85a20",
   "metadata": {},
   "outputs": [
    {
     "data": {
      "text/plain": [
       "(1, 9, 45, 362880)"
      ]
     },
     "execution_count": 31,
     "metadata": {},
     "output_type": "execute_result"
    }
   ],
   "source": [
    "c.min(), c.max(), c.sum(), c.prod()"
   ]
  },
  {
   "cell_type": "markdown",
   "id": "f86b3c18",
   "metadata": {},
   "source": [
    "- Exercise 2 - Determine the standard deviation of c."
   ]
  },
  {
   "cell_type": "code",
   "execution_count": 33,
   "id": "27d80bb6",
   "metadata": {},
   "outputs": [
    {
     "data": {
      "text/plain": [
       "2.581988897471611"
      ]
     },
     "execution_count": 33,
     "metadata": {},
     "output_type": "execute_result"
    }
   ],
   "source": [
    "c.std()"
   ]
  },
  {
   "cell_type": "markdown",
   "id": "26665192",
   "metadata": {},
   "source": [
    "- Exercise 3 - Determine the variance of c."
   ]
  },
  {
   "cell_type": "code",
   "execution_count": 34,
   "id": "12d75776",
   "metadata": {},
   "outputs": [
    {
     "data": {
      "text/plain": [
       "6.666666666666667"
      ]
     },
     "execution_count": 34,
     "metadata": {},
     "output_type": "execute_result"
    }
   ],
   "source": [
    "c.var()"
   ]
  },
  {
   "cell_type": "markdown",
   "id": "c85477ef",
   "metadata": {},
   "source": [
    "- Exercise 4 - Print out the shape of the array c"
   ]
  },
  {
   "cell_type": "code",
   "execution_count": 36,
   "id": "21ca1529",
   "metadata": {},
   "outputs": [
    {
     "data": {
      "text/plain": [
       "(3, 3)"
      ]
     },
     "execution_count": 36,
     "metadata": {},
     "output_type": "execute_result"
    }
   ],
   "source": [
    "c.shape"
   ]
  },
  {
   "cell_type": "markdown",
   "id": "f6109c72",
   "metadata": {},
   "source": [
    "- Exercise 5 - Transpose c and print out transposed result."
   ]
  },
  {
   "cell_type": "code",
   "execution_count": 37,
   "id": "8a1186ed",
   "metadata": {},
   "outputs": [
    {
     "data": {
      "text/plain": [
       "array([[1, 4, 7],\n",
       "       [2, 5, 8],\n",
       "       [3, 6, 9]])"
      ]
     },
     "execution_count": 37,
     "metadata": {},
     "output_type": "execute_result"
    }
   ],
   "source": [
    "c.T"
   ]
  },
  {
   "cell_type": "markdown",
   "id": "a87d4f24",
   "metadata": {},
   "source": [
    "- Exercise 6 - Get the dot product of the array c with c. "
   ]
  },
  {
   "cell_type": "code",
   "execution_count": 44,
   "id": "27fa5449",
   "metadata": {},
   "outputs": [
    {
     "data": {
      "text/plain": [
       "array([[ 30,  36,  42],\n",
       "       [ 66,  81,  96],\n",
       "       [102, 126, 150]])"
      ]
     },
     "execution_count": 44,
     "metadata": {},
     "output_type": "execute_result"
    }
   ],
   "source": [
    "np.dot(c, c)"
   ]
  },
  {
   "cell_type": "markdown",
   "id": "aa76a586",
   "metadata": {},
   "source": [
    "- Exercise 7 - Write the code necessary to sum up the result of c times c transposed. Answer should be 261"
   ]
  },
  {
   "cell_type": "code",
   "execution_count": 43,
   "id": "84c1be67",
   "metadata": {},
   "outputs": [
    {
     "data": {
      "text/plain": [
       "261"
      ]
     },
     "execution_count": 43,
     "metadata": {},
     "output_type": "execute_result"
    }
   ],
   "source": [
    "(c * c.T).sum()"
   ]
  },
  {
   "cell_type": "markdown",
   "id": "462f1454",
   "metadata": {},
   "source": [
    "- Exercise 8 - Write the code necessary to determine the product of c times c transposed. Answer should be 131681894400."
   ]
  },
  {
   "cell_type": "code",
   "execution_count": 46,
   "id": "369ed78c",
   "metadata": {},
   "outputs": [
    {
     "data": {
      "text/plain": [
       "131681894400"
      ]
     },
     "execution_count": 46,
     "metadata": {},
     "output_type": "execute_result"
    }
   ],
   "source": [
    "(c * c.T).prod()"
   ]
  },
  {
   "cell_type": "markdown",
   "id": "6ea01aa1",
   "metadata": {},
   "source": [
    "## d"
   ]
  },
  {
   "cell_type": "markdown",
   "id": "db94d2df",
   "metadata": {},
   "source": [
    "- Setup 4\n",
    "\n",
    "        d = [\n",
    "            [90, 30, 45, 0, 120, 180],\n",
    "            [45, -90, -30, 270, 90, 0],\n",
    "            [60, 45, -45, 90, -45, 180]\n",
    "        ]"
   ]
  },
  {
   "cell_type": "code",
   "execution_count": 47,
   "id": "790523ee",
   "metadata": {},
   "outputs": [],
   "source": [
    " d = [\n",
    "      [90, 30, 45, 0, 120, 180],\n",
    "      [45, -90, -30, 270, 90, 0],\n",
    "      [60, 45, -45, 90, -45, 180]\n",
    "  ]"
   ]
  },
  {
   "cell_type": "code",
   "execution_count": 48,
   "id": "df4826e5",
   "metadata": {},
   "outputs": [],
   "source": [
    "d = np.array(d)"
   ]
  },
  {
   "cell_type": "code",
   "execution_count": 49,
   "id": "37a157e6",
   "metadata": {},
   "outputs": [
    {
     "data": {
      "text/plain": [
       "array([[ 90,  30,  45,   0, 120, 180],\n",
       "       [ 45, -90, -30, 270,  90,   0],\n",
       "       [ 60,  45, -45,  90, -45, 180]])"
      ]
     },
     "execution_count": 49,
     "metadata": {},
     "output_type": "execute_result"
    }
   ],
   "source": [
    "d"
   ]
  },
  {
   "cell_type": "markdown",
   "id": "4788cc6e",
   "metadata": {},
   "source": [
    "- Exercise 1 - Find the sine of all the numbers in d"
   ]
  },
  {
   "cell_type": "code",
   "execution_count": 50,
   "id": "f623de8b",
   "metadata": {},
   "outputs": [
    {
     "data": {
      "text/plain": [
       "array([[ 0.89399666, -0.98803162,  0.85090352,  0.        ,  0.58061118,\n",
       "        -0.80115264],\n",
       "       [ 0.85090352, -0.89399666,  0.98803162, -0.17604595,  0.89399666,\n",
       "         0.        ],\n",
       "       [-0.30481062,  0.85090352, -0.85090352,  0.89399666, -0.85090352,\n",
       "        -0.80115264]])"
      ]
     },
     "execution_count": 50,
     "metadata": {},
     "output_type": "execute_result"
    }
   ],
   "source": [
    "np.sin(d)"
   ]
  },
  {
   "cell_type": "markdown",
   "id": "035e02dc",
   "metadata": {},
   "source": [
    "- Exercise 2 - Find the cosine of all the numbers in d"
   ]
  },
  {
   "cell_type": "code",
   "execution_count": 51,
   "id": "235dba53",
   "metadata": {},
   "outputs": [
    {
     "data": {
      "text/plain": [
       "array([[-0.44807362,  0.15425145,  0.52532199,  1.        ,  0.81418097,\n",
       "        -0.59846007],\n",
       "       [ 0.52532199, -0.44807362,  0.15425145,  0.98438195, -0.44807362,\n",
       "         1.        ],\n",
       "       [-0.95241298,  0.52532199,  0.52532199, -0.44807362,  0.52532199,\n",
       "        -0.59846007]])"
      ]
     },
     "execution_count": 51,
     "metadata": {},
     "output_type": "execute_result"
    }
   ],
   "source": [
    "np.cos(d)"
   ]
  },
  {
   "cell_type": "markdown",
   "id": "97c41391",
   "metadata": {},
   "source": [
    "- Exercise 3 - Find the tangent of all the numbers in d"
   ]
  },
  {
   "cell_type": "code",
   "execution_count": 52,
   "id": "6f7f880f",
   "metadata": {},
   "outputs": [
    {
     "data": {
      "text/plain": [
       "array([[-1.99520041, -6.4053312 ,  1.61977519,  0.        ,  0.71312301,\n",
       "         1.33869021],\n",
       "       [ 1.61977519,  1.99520041,  6.4053312 , -0.17883906, -1.99520041,\n",
       "         0.        ],\n",
       "       [ 0.32004039,  1.61977519, -1.61977519, -1.99520041, -1.61977519,\n",
       "         1.33869021]])"
      ]
     },
     "execution_count": 52,
     "metadata": {},
     "output_type": "execute_result"
    }
   ],
   "source": [
    "np.tan(d)"
   ]
  },
  {
   "cell_type": "markdown",
   "id": "2fa8dbca",
   "metadata": {},
   "source": [
    "- Exercise 4 - Find all the negative numbers in d"
   ]
  },
  {
   "cell_type": "code",
   "execution_count": 53,
   "id": "dfde4a80",
   "metadata": {},
   "outputs": [
    {
     "data": {
      "text/plain": [
       "array([-90, -30, -45, -45])"
      ]
     },
     "execution_count": 53,
     "metadata": {},
     "output_type": "execute_result"
    }
   ],
   "source": [
    "d[d < 0]"
   ]
  },
  {
   "cell_type": "markdown",
   "id": "f1e81d7e",
   "metadata": {},
   "source": [
    "- Exercise 5 - Find all the positive numbers in d"
   ]
  },
  {
   "cell_type": "code",
   "execution_count": 54,
   "id": "351dd4a9",
   "metadata": {},
   "outputs": [
    {
     "data": {
      "text/plain": [
       "array([ 90,  30,  45, 120, 180,  45, 270,  90,  60,  45,  90, 180])"
      ]
     },
     "execution_count": 54,
     "metadata": {},
     "output_type": "execute_result"
    }
   ],
   "source": [
    "d[d > 0]"
   ]
  },
  {
   "cell_type": "markdown",
   "id": "20708caf",
   "metadata": {},
   "source": [
    "- Exercise 6 - Return an array of only the unique numbers in d.\n"
   ]
  },
  {
   "cell_type": "code",
   "execution_count": 55,
   "id": "7a2ee6d5",
   "metadata": {},
   "outputs": [
    {
     "data": {
      "text/plain": [
       "array([-90, -45, -30,   0,  30,  45,  60,  90, 120, 180, 270])"
      ]
     },
     "execution_count": 55,
     "metadata": {},
     "output_type": "execute_result"
    }
   ],
   "source": [
    "np.unique(d)"
   ]
  },
  {
   "cell_type": "markdown",
   "id": "4b9d320c",
   "metadata": {},
   "source": [
    "- Exercise 7 - Determine how many unique numbers there are in d."
   ]
  },
  {
   "cell_type": "code",
   "execution_count": 56,
   "id": "a72c3c0f",
   "metadata": {},
   "outputs": [
    {
     "data": {
      "text/plain": [
       "11"
      ]
     },
     "execution_count": 56,
     "metadata": {},
     "output_type": "execute_result"
    }
   ],
   "source": [
    "len(np.unique(d))"
   ]
  },
  {
   "cell_type": "markdown",
   "id": "e3497307",
   "metadata": {},
   "source": [
    "- Exercise 8 - Print out the shape of d."
   ]
  },
  {
   "cell_type": "code",
   "execution_count": 57,
   "id": "e94383b9",
   "metadata": {},
   "outputs": [
    {
     "data": {
      "text/plain": [
       "(3, 6)"
      ]
     },
     "execution_count": 57,
     "metadata": {},
     "output_type": "execute_result"
    }
   ],
   "source": [
    "d.shape"
   ]
  },
  {
   "cell_type": "markdown",
   "id": "3b6ee9dc",
   "metadata": {},
   "source": [
    "- Exercise 9 - Transpose and then print out the shape of d.\n"
   ]
  },
  {
   "cell_type": "code",
   "execution_count": 58,
   "id": "43653ddf",
   "metadata": {},
   "outputs": [
    {
     "data": {
      "text/plain": [
       "(6, 3)"
      ]
     },
     "execution_count": 58,
     "metadata": {},
     "output_type": "execute_result"
    }
   ],
   "source": [
    "d.T.shape"
   ]
  },
  {
   "cell_type": "markdown",
   "id": "69d6277e",
   "metadata": {},
   "source": [
    "- Exercise 10 - Reshape d into an array of 9 x 2"
   ]
  },
  {
   "cell_type": "code",
   "execution_count": 59,
   "id": "50684cee",
   "metadata": {},
   "outputs": [
    {
     "data": {
      "text/plain": [
       "array([[ 90,  30],\n",
       "       [ 45,   0],\n",
       "       [120, 180],\n",
       "       [ 45, -90],\n",
       "       [-30, 270],\n",
       "       [ 90,   0],\n",
       "       [ 60,  45],\n",
       "       [-45,  90],\n",
       "       [-45, 180]])"
      ]
     },
     "execution_count": 59,
     "metadata": {},
     "output_type": "execute_result"
    }
   ],
   "source": [
    "d.reshape(9,2)"
   ]
  },
  {
   "cell_type": "markdown",
   "id": "7ffd1b22",
   "metadata": {},
   "source": [
    "Awesome Bonus For much more practice with numpy, Go to https://github.com/rougier/numpy-100 and clone the repo down to your laptop. Next, go to https://github.com/new to make a new repo. Name it numpy-100, and follow the directions to \"push an existing repository from the command line\" so that you can push up your changes to your own account."
   ]
  }
 ],
 "metadata": {
  "kernelspec": {
   "display_name": "Python 3",
   "language": "python",
   "name": "python3"
  },
  "language_info": {
   "codemirror_mode": {
    "name": "ipython",
    "version": 3
   },
   "file_extension": ".py",
   "mimetype": "text/x-python",
   "name": "python",
   "nbconvert_exporter": "python",
   "pygments_lexer": "ipython3",
   "version": "3.8.8"
  }
 },
 "nbformat": 4,
 "nbformat_minor": 5
}
